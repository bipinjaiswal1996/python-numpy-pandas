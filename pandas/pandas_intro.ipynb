{
 "cells": [
  {
   "cell_type": "code",
   "execution_count": 1,
   "id": "stupid-pittsburgh",
   "metadata": {},
   "outputs": [],
   "source": [
    "import numpy as np\n",
    "import pandas as pd"
   ]
  },
  {
   "cell_type": "code",
   "execution_count": 2,
   "id": "afraid-jumping",
   "metadata": {},
   "outputs": [],
   "source": [
    "user_data={\n",
    "    \"marksA\": np.random.randint(1,100,10),\n",
    "    \"marksB\": np.random.randint(1,100,10),\n",
    "    \"marksC\": np.random.randint(1,100,10),\n",
    "}\n"
   ]
  },
  {
   "cell_type": "code",
   "execution_count": 3,
   "id": "pressing-continent",
   "metadata": {},
   "outputs": [
    {
     "name": "stdout",
     "output_type": "stream",
     "text": [
      "   marksA  marksB  marksC\n",
      "0      60      40      30\n",
      "1      50      53      26\n",
      "2      56      75      71\n",
      "3      36       4      60\n",
      "4      44      96      75\n",
      "5      44      77      67\n",
      "6      63      47      14\n",
      "7      80      96      83\n",
      "8      76      87       6\n",
      "9      87      72      43\n"
     ]
    }
   ],
   "source": [
    "df=pd.DataFrame(user_data)\n",
    "print(df)"
   ]
  },
  {
   "cell_type": "code",
   "execution_count": 4,
   "id": "certain-boundary",
   "metadata": {},
   "outputs": [],
   "source": [
    "df.to_csv('marks.csv')"
   ]
  },
  {
   "cell_type": "code",
   "execution_count": 9,
   "id": "fewer-understanding",
   "metadata": {},
   "outputs": [
    {
     "name": "stdout",
     "output_type": "stream",
     "text": [
      "   marksA  marksB  marksC\n",
      "0      60      40      30\n",
      "1      50      53      26\n",
      "2      56      75      71\n",
      "3      36       4      60\n",
      "4      44      96      75\n",
      "5      44      77      67\n",
      "6      63      47      14\n",
      "7      80      96      83\n",
      "8      76      87       6\n",
      "9      87      72      43\n"
     ]
    }
   ],
   "source": [
    "df1=pd.read_csv('marks.csv')\n",
    "df1=df1.drop(columns=['Unnamed: 0'])\n",
    "print(df1)"
   ]
  },
  {
   "cell_type": "code",
   "execution_count": 10,
   "id": "sunrise-nebraska",
   "metadata": {},
   "outputs": [
    {
     "data": {
      "text/html": [
       "<div>\n",
       "<style scoped>\n",
       "    .dataframe tbody tr th:only-of-type {\n",
       "        vertical-align: middle;\n",
       "    }\n",
       "\n",
       "    .dataframe tbody tr th {\n",
       "        vertical-align: top;\n",
       "    }\n",
       "\n",
       "    .dataframe thead th {\n",
       "        text-align: right;\n",
       "    }\n",
       "</style>\n",
       "<table border=\"1\" class=\"dataframe\">\n",
       "  <thead>\n",
       "    <tr style=\"text-align: right;\">\n",
       "      <th></th>\n",
       "      <th>marksA</th>\n",
       "      <th>marksB</th>\n",
       "      <th>marksC</th>\n",
       "    </tr>\n",
       "  </thead>\n",
       "  <tbody>\n",
       "    <tr>\n",
       "      <th>count</th>\n",
       "      <td>10.000000</td>\n",
       "      <td>10.000000</td>\n",
       "      <td>10.000000</td>\n",
       "    </tr>\n",
       "    <tr>\n",
       "      <th>mean</th>\n",
       "      <td>59.600000</td>\n",
       "      <td>64.700000</td>\n",
       "      <td>47.500000</td>\n",
       "    </tr>\n",
       "    <tr>\n",
       "      <th>std</th>\n",
       "      <td>16.984961</td>\n",
       "      <td>28.890791</td>\n",
       "      <td>27.362789</td>\n",
       "    </tr>\n",
       "    <tr>\n",
       "      <th>min</th>\n",
       "      <td>36.000000</td>\n",
       "      <td>4.000000</td>\n",
       "      <td>6.000000</td>\n",
       "    </tr>\n",
       "    <tr>\n",
       "      <th>25%</th>\n",
       "      <td>45.500000</td>\n",
       "      <td>48.500000</td>\n",
       "      <td>27.000000</td>\n",
       "    </tr>\n",
       "    <tr>\n",
       "      <th>50%</th>\n",
       "      <td>58.000000</td>\n",
       "      <td>73.500000</td>\n",
       "      <td>51.500000</td>\n",
       "    </tr>\n",
       "    <tr>\n",
       "      <th>75%</th>\n",
       "      <td>72.750000</td>\n",
       "      <td>84.500000</td>\n",
       "      <td>70.000000</td>\n",
       "    </tr>\n",
       "    <tr>\n",
       "      <th>max</th>\n",
       "      <td>87.000000</td>\n",
       "      <td>96.000000</td>\n",
       "      <td>83.000000</td>\n",
       "    </tr>\n",
       "  </tbody>\n",
       "</table>\n",
       "</div>"
      ],
      "text/plain": [
       "          marksA     marksB     marksC\n",
       "count  10.000000  10.000000  10.000000\n",
       "mean   59.600000  64.700000  47.500000\n",
       "std    16.984961  28.890791  27.362789\n",
       "min    36.000000   4.000000   6.000000\n",
       "25%    45.500000  48.500000  27.000000\n",
       "50%    58.000000  73.500000  51.500000\n",
       "75%    72.750000  84.500000  70.000000\n",
       "max    87.000000  96.000000  83.000000"
      ]
     },
     "execution_count": 10,
     "metadata": {},
     "output_type": "execute_result"
    }
   ],
   "source": [
    "df1.describe()"
   ]
  },
  {
   "cell_type": "code",
   "execution_count": 11,
   "id": "documentary-sending",
   "metadata": {},
   "outputs": [
    {
     "data": {
      "text/html": [
       "<div>\n",
       "<style scoped>\n",
       "    .dataframe tbody tr th:only-of-type {\n",
       "        vertical-align: middle;\n",
       "    }\n",
       "\n",
       "    .dataframe tbody tr th {\n",
       "        vertical-align: top;\n",
       "    }\n",
       "\n",
       "    .dataframe thead th {\n",
       "        text-align: right;\n",
       "    }\n",
       "</style>\n",
       "<table border=\"1\" class=\"dataframe\">\n",
       "  <thead>\n",
       "    <tr style=\"text-align: right;\">\n",
       "      <th></th>\n",
       "      <th>marksA</th>\n",
       "      <th>marksB</th>\n",
       "      <th>marksC</th>\n",
       "    </tr>\n",
       "  </thead>\n",
       "  <tbody>\n",
       "    <tr>\n",
       "      <th>0</th>\n",
       "      <td>60</td>\n",
       "      <td>40</td>\n",
       "      <td>30</td>\n",
       "    </tr>\n",
       "    <tr>\n",
       "      <th>1</th>\n",
       "      <td>50</td>\n",
       "      <td>53</td>\n",
       "      <td>26</td>\n",
       "    </tr>\n",
       "    <tr>\n",
       "      <th>2</th>\n",
       "      <td>56</td>\n",
       "      <td>75</td>\n",
       "      <td>71</td>\n",
       "    </tr>\n",
       "  </tbody>\n",
       "</table>\n",
       "</div>"
      ],
      "text/plain": [
       "   marksA  marksB  marksC\n",
       "0      60      40      30\n",
       "1      50      53      26\n",
       "2      56      75      71"
      ]
     },
     "execution_count": 11,
     "metadata": {},
     "output_type": "execute_result"
    }
   ],
   "source": [
    "df1.head(n=3)"
   ]
  },
  {
   "cell_type": "code",
   "execution_count": 12,
   "id": "distant-semester",
   "metadata": {},
   "outputs": [
    {
     "data": {
      "text/html": [
       "<div>\n",
       "<style scoped>\n",
       "    .dataframe tbody tr th:only-of-type {\n",
       "        vertical-align: middle;\n",
       "    }\n",
       "\n",
       "    .dataframe tbody tr th {\n",
       "        vertical-align: top;\n",
       "    }\n",
       "\n",
       "    .dataframe thead th {\n",
       "        text-align: right;\n",
       "    }\n",
       "</style>\n",
       "<table border=\"1\" class=\"dataframe\">\n",
       "  <thead>\n",
       "    <tr style=\"text-align: right;\">\n",
       "      <th></th>\n",
       "      <th>marksA</th>\n",
       "      <th>marksB</th>\n",
       "      <th>marksC</th>\n",
       "    </tr>\n",
       "  </thead>\n",
       "  <tbody>\n",
       "    <tr>\n",
       "      <th>7</th>\n",
       "      <td>80</td>\n",
       "      <td>96</td>\n",
       "      <td>83</td>\n",
       "    </tr>\n",
       "    <tr>\n",
       "      <th>8</th>\n",
       "      <td>76</td>\n",
       "      <td>87</td>\n",
       "      <td>6</td>\n",
       "    </tr>\n",
       "    <tr>\n",
       "      <th>9</th>\n",
       "      <td>87</td>\n",
       "      <td>72</td>\n",
       "      <td>43</td>\n",
       "    </tr>\n",
       "  </tbody>\n",
       "</table>\n",
       "</div>"
      ],
      "text/plain": [
       "   marksA  marksB  marksC\n",
       "7      80      96      83\n",
       "8      76      87       6\n",
       "9      87      72      43"
      ]
     },
     "execution_count": 12,
     "metadata": {},
     "output_type": "execute_result"
    }
   ],
   "source": [
    "df1.tail(n=3)"
   ]
  },
  {
   "cell_type": "code",
   "execution_count": 13,
   "id": "surgical-monroe",
   "metadata": {},
   "outputs": [
    {
     "data": {
      "text/plain": [
       "marksA    36\n",
       "marksB     4\n",
       "marksC    60\n",
       "Name: 3, dtype: int64"
      ]
     },
     "execution_count": 13,
     "metadata": {},
     "output_type": "execute_result"
    }
   ],
   "source": [
    "df1.iloc[3]"
   ]
  },
  {
   "cell_type": "code",
   "execution_count": 14,
   "id": "reverse-ecology",
   "metadata": {},
   "outputs": [
    {
     "data": {
      "text/plain": [
       "60"
      ]
     },
     "execution_count": 14,
     "metadata": {},
     "output_type": "execute_result"
    }
   ],
   "source": [
    "df1.iloc[3,2]"
   ]
  },
  {
   "cell_type": "code",
   "execution_count": 19,
   "id": "large-ukraine",
   "metadata": {},
   "outputs": [
    {
     "name": "stdout",
     "output_type": "stream",
     "text": [
      "0    30\n",
      "1    26\n",
      "2    71\n",
      "3    60\n",
      "4    75\n",
      "5    67\n",
      "6    14\n",
      "7    83\n",
      "8     6\n",
      "9    43\n",
      "Name: marksC, dtype: int64\n"
     ]
    }
   ],
   "source": [
    "idx=df1.columns.get_loc('marksC')\n",
    "print(df1.iloc[:,idx])"
   ]
  },
  {
   "cell_type": "code",
   "execution_count": 21,
   "id": "hydraulic-drive",
   "metadata": {},
   "outputs": [
    {
     "name": "stdout",
     "output_type": "stream",
     "text": [
      "   marksA  marksC\n",
      "0      60      30\n",
      "1      50      26\n",
      "2      56      71\n",
      "3      36      60\n",
      "4      44      75\n"
     ]
    }
   ],
   "source": [
    "idx=[df1.columns.get_loc('marksA'),df1.columns.get_loc('marksC')]\n",
    "print(df1.iloc[:5,idx])"
   ]
  },
  {
   "cell_type": "code",
   "execution_count": 22,
   "id": "joint-billion",
   "metadata": {},
   "outputs": [
    {
     "name": "stdout",
     "output_type": "stream",
     "text": [
      "   marksA  marksB  marksC\n",
      "0      60      40      30\n",
      "1      50      53      26\n",
      "2      56      75      71\n",
      "3      36       4      60\n",
      "4      44      96      75\n",
      "5      44      77      67\n",
      "6      63      47      14\n",
      "7      80      96      83\n",
      "8      76      87       6\n",
      "9      87      72      43\n"
     ]
    }
   ],
   "source": [
    "print(df1)"
   ]
  },
  {
   "cell_type": "code",
   "execution_count": 27,
   "id": "incorporate-acquisition",
   "metadata": {},
   "outputs": [
    {
     "name": "stdout",
     "output_type": "stream",
     "text": [
      "   marksA  marksB  marksC\n",
      "9      87      72      43\n",
      "7      80      96      83\n",
      "8      76      87       6\n",
      "6      63      47      14\n",
      "0      60      40      30\n",
      "2      56      75      71\n",
      "1      50      53      26\n",
      "4      44      96      75\n",
      "5      44      77      67\n",
      "3      36       4      60\n"
     ]
    }
   ],
   "source": [
    "df1=df1.sort_values(by=['marksA','marksC'],ascending=False)\n",
    "print(df1)"
   ]
  },
  {
   "cell_type": "code",
   "execution_count": 30,
   "id": "technical-argentina",
   "metadata": {},
   "outputs": [
    {
     "name": "stdout",
     "output_type": "stream",
     "text": [
      "[[87 72 43]\n",
      " [80 96 83]\n",
      " [76 87  6]\n",
      " [63 47 14]\n",
      " [60 40 30]\n",
      " [56 75 71]\n",
      " [50 53 26]\n",
      " [44 96 75]\n",
      " [44 77 67]\n",
      " [36  4 60]] (10, 3) <class 'numpy.ndarray'>\n"
     ]
    }
   ],
   "source": [
    "data_array=df1.values\n",
    "print(data_array,data_array.shape,type(data_array))"
   ]
  },
  {
   "cell_type": "code",
   "execution_count": 34,
   "id": "rocky-alaska",
   "metadata": {},
   "outputs": [],
   "source": [
    "df2=pd.DataFrame(data_array,dtype='int32',columns=['physics','chemistry','maths'])\n",
    "df2.to_csv('pcm.csv',index=False)"
   ]
  },
  {
   "cell_type": "code",
   "execution_count": null,
   "id": "violent-peripheral",
   "metadata": {},
   "outputs": [],
   "source": []
  }
 ],
 "metadata": {
  "kernelspec": {
   "display_name": "Python 3",
   "language": "python",
   "name": "python3"
  },
  "language_info": {
   "codemirror_mode": {
    "name": "ipython",
    "version": 3
   },
   "file_extension": ".py",
   "mimetype": "text/x-python",
   "name": "python",
   "nbconvert_exporter": "python",
   "pygments_lexer": "ipython3",
   "version": "3.9.2"
  }
 },
 "nbformat": 4,
 "nbformat_minor": 5
}
