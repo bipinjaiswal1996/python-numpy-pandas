{
 "cells": [
  {
   "cell_type": "code",
   "execution_count": 1,
   "id": "electrical-california",
   "metadata": {},
   "outputs": [],
   "source": [
    "import numpy as np"
   ]
  },
  {
   "cell_type": "code",
   "execution_count": 16,
   "id": "paperback-integration",
   "metadata": {},
   "outputs": [
    {
     "name": "stdout",
     "output_type": "stream",
     "text": [
      "[1. 2. 3. 4. 5.] <class 'numpy.ndarray'>\n",
      "(5,)\n"
     ]
    }
   ],
   "source": [
    "a=np.array([1,2,3,4,5],dtype=np.float64)\n",
    "print(a,type(a))\n",
    "print(a.shape)"
   ]
  },
  {
   "cell_type": "code",
   "execution_count": 18,
   "id": "likely-mattress",
   "metadata": {},
   "outputs": [
    {
     "name": "stdout",
     "output_type": "stream",
     "text": [
      "[[0. 0. 0.]\n",
      " [0. 0. 0.]\n",
      " [0. 0. 0.]]\n",
      "[[1 1 1]\n",
      " [1 1 1]\n",
      " [1 1 1]]\n",
      "[[9 9 9]\n",
      " [9 9 9]]\n",
      "[[1. 0. 0. 0.]\n",
      " [0. 1. 0. 0.]\n",
      " [0. 0. 1. 0.]\n",
      " [0. 0. 0. 1.]]\n",
      "[[0.78906939 0.27005125 0.16042827]\n",
      " [0.31916558 0.65786    0.22866933]\n",
      " [0.73452792 0.4526204  0.80390053]]\n",
      "[0.31916558 0.65786    0.22866933]\n",
      "[[0.78906939 0.27005125 0.16042827]\n",
      " [0.31916558 0.         0.22866933]\n",
      " [0.73452792 0.         0.80390053]]\n"
     ]
    }
   ],
   "source": [
    "a=np.zeros((3,3))\n",
    "print(a)\n",
    "a=np.ones((3,3),dtype=np.int64)\n",
    "print(a)\n",
    "a=np.full((2,3),9)\n",
    "print(a)\n",
    "a=np.eye(4)\n",
    "print(a)\n",
    "a=np.random.random((3,3))\n",
    "print(a)\n",
    "print(a[1,:])\n",
    "a[1:3,1]=0\n",
    "print(a)"
   ]
  },
  {
   "cell_type": "code",
   "execution_count": 20,
   "id": "mineral-project",
   "metadata": {},
   "outputs": [
    {
     "name": "stdout",
     "output_type": "stream",
     "text": [
      "[[1.15874209 1.553142   0.98164033]\n",
      " [1.02721473 1.23566072 0.96911371]\n",
      " [0.8783184  0.95063069 1.15788222]]\n",
      "[[ 0.83667628 -0.13614661 -0.14820794]\n",
      " [-0.69416783  0.51760118  0.65999569]\n",
      " [-0.1956652  -0.47681745  0.55460077]]\n",
      "[[6.19568525 0.8388119  0.73764984]\n",
      " [0.1934764  2.44166646 5.27018578]\n",
      " [0.63562721 0.33193027 2.83861369]]\n",
      "[[0.16066401 0.59842855 0.23541304]\n",
      " [0.14332528 0.31473661 0.12589677]\n",
      " [0.18328959 0.16908596 0.2582773 ]]\n",
      "[[0.99885394 0.84172305 0.64553559]\n",
      " [0.40807285 0.93628572 0.90252684]\n",
      " [0.58423163 0.48673054 0.92533318]]\n",
      "[[1.5291432  1.7059796  1.6690963 ]\n",
      " [0.99995052 1.35741232 1.65241427]\n",
      " [0.93785394 0.92587364 1.22646171]]\n"
     ]
    }
   ],
   "source": [
    "a=np.random.random((3,3))\n",
    "b=np.random.random((3,3))\n",
    "print(np.add(a,b))\n",
    "print(np.subtract(a,b))\n",
    "print(np.divide(a,b))\n",
    "print(np.multiply(a,b)) #element wise\n",
    "print(np.sqrt(a,b))\n",
    "print(np.dot(a,b)) #matrix multiplication"
   ]
  },
  {
   "cell_type": "code",
   "execution_count": 25,
   "id": "premier-madness",
   "metadata": {},
   "outputs": [
    {
     "name": "stdout",
     "output_type": "stream",
     "text": [
      "15\n",
      "[3. 3.]\n",
      "[2. 2. 2.]\n"
     ]
    }
   ],
   "source": [
    "a=np.array([1,2,3,4,5])\n",
    "print(np.sum(a))\n",
    "a=np.ones((3,2))\n",
    "print(np.sum(a,axis=0))\n",
    "print(np.sum(a,axis=1))\n"
   ]
  },
  {
   "cell_type": "code",
   "execution_count": 67,
   "id": "dramatic-penetration",
   "metadata": {},
   "outputs": [
    {
     "name": "stdout",
     "output_type": "stream",
     "text": [
      "[[0.12632952 0.13507916]\n",
      " [0.50566217 0.02152481]\n",
      " [0.94797021 0.82711547]\n",
      " [0.01501898 0.17619626]\n",
      " [0.33206357 0.13099684]\n",
      " [0.80949069 0.34473665]\n",
      " [0.94010748 0.58201418]\n",
      " [0.87883198 0.84473445]\n",
      " [0.90539232 0.45988027]\n",
      " [0.54634682 0.79860359]]\n"
     ]
    }
   ],
   "source": [
    "a=np.random.random((5,4))\n",
    "a.resize((10,2))\n",
    "print(a)"
   ]
  },
  {
   "cell_type": "code",
   "execution_count": 51,
   "id": "absent-graham",
   "metadata": {},
   "outputs": [
    {
     "name": "stdout",
     "output_type": "stream",
     "text": [
      "[0 1 2 3 4 5 6 7 8 9]\n"
     ]
    }
   ],
   "source": [
    "a=np.arange(10)\n",
    "print(a)"
   ]
  },
  {
   "cell_type": "code",
   "execution_count": 52,
   "id": "defined-connecticut",
   "metadata": {},
   "outputs": [
    {
     "name": "stdout",
     "output_type": "stream",
     "text": [
      "[2 9 6 4 0 3 1 7 8 5]\n"
     ]
    }
   ],
   "source": [
    "np.random.seed(1)\n",
    "np.random.shuffle(a)\n",
    "print(a)"
   ]
  },
  {
   "cell_type": "code",
   "execution_count": 40,
   "id": "studied-measurement",
   "metadata": {},
   "outputs": [
    {
     "name": "stdout",
     "output_type": "stream",
     "text": [
      "[[0.5124334  0.41617757 0.82782288]\n",
      " [0.97067424 0.89680983 0.87233946]]\n",
      "[[0.6724858  0.77304723 0.14109972]\n",
      " [0.17372171 0.32349446 0.735333  ]]\n",
      "[[8 2 5 9 3 6]\n",
      " [6 4 8 9 8 7]\n",
      " [1 4 4 1 3 5]\n",
      " [7 2 5 5 9 6]\n",
      " [4 1 3 5 4 1]]\n",
      "[[-2.75187906  0.38318159 -1.29825209]\n",
      " [ 0.81595026 -0.19797413 -1.75893935]]\n"
     ]
    }
   ],
   "source": [
    "a=np.random.random((2,3))\n",
    "print(a)\n",
    "a=np.random.rand(2,3)\n",
    "print(a)\n",
    "a=np.random.randint(1,10,(5,6))\n",
    "print(a)\n",
    "a=np.random.randn(2,3)\n",
    "print(a)\n"
   ]
  },
  {
   "cell_type": "code",
   "execution_count": 57,
   "id": "least-career",
   "metadata": {},
   "outputs": [
    {
     "name": "stdout",
     "output_type": "stream",
     "text": [
      "[[8 9 6 8 1 4]\n",
      " [2 5 5 7 9 9]\n",
      " [3 8 6 6 5 6]\n",
      " [9 6 9 2 2 9]\n",
      " [8 1 4 5 3 1]]\n",
      "[2 1 4 2 1 1]\n",
      "[1 2 3 2 1]\n",
      "[6.  5.8 6.  5.6 4.  5.8]\n",
      "[8. 6. 6. 6. 3. 6.]\n"
     ]
    }
   ],
   "source": [
    "a=np.random.randint(1,10,(5,6))\n",
    "print(a)\n",
    "print(np.min(a,axis=0))\n",
    "print(np.min(a,axis=1))\n",
    "\n",
    "print(np.mean(a,axis=0))\n",
    "\n",
    "print(np.median(a,axis=0))"
   ]
  },
  {
   "cell_type": "code",
   "execution_count": 59,
   "id": "elegant-possibility",
   "metadata": {},
   "outputs": [
    {
     "name": "stdout",
     "output_type": "stream",
     "text": [
      "[6.46666667 4.8        6.         4.86666667 3.8        5.4       ]\n"
     ]
    }
   ],
   "source": [
    "wts=np.array([1,2,3,4,5])\n",
    "print(np.average(a,weights=wts,axis=0))"
   ]
  },
  {
   "cell_type": "code",
   "execution_count": 60,
   "id": "economic-sender",
   "metadata": {},
   "outputs": [
    {
     "name": "stdout",
     "output_type": "stream",
     "text": [
      "[2.89827535 2.78567766 1.67332005 2.05912603 2.82842712 3.05941171]\n"
     ]
    }
   ],
   "source": [
    "print(np.std(a,axis=0))"
   ]
  },
  {
   "cell_type": "code",
   "execution_count": 62,
   "id": "spanish-float",
   "metadata": {},
   "outputs": [
    {
     "name": "stdout",
     "output_type": "stream",
     "text": [
      "[8.4  7.76 2.8  4.24 8.   9.36]\n"
     ]
    }
   ],
   "source": [
    "print(np.var(a,axis=0))"
   ]
  },
  {
   "cell_type": "code",
   "execution_count": 69,
   "id": "amended-dating",
   "metadata": {},
   "outputs": [
    {
     "name": "stdout",
     "output_type": "stream",
     "text": [
      "[[0.12632952 0.13507916]\n",
      " [0.50566217 0.02152481]\n",
      " [0.94797021 0.82711547]\n",
      " [0.01501898 0.17619626]\n",
      " [0.33206357 0.13099684]\n",
      " [0.80949069 0.34473665]\n",
      " [0.94010748 0.58201418]\n",
      " [0.87883198 0.84473445]\n",
      " [0.90539232 0.45988027]\n",
      " [0.54634682 0.79860359]]\n",
      "[[0.12632952 0.50566217 0.94797021 0.01501898 0.33206357 0.80949069\n",
      "  0.94010748 0.87883198 0.90539232 0.54634682]\n",
      " [0.13507916 0.02152481 0.82711547 0.17619626 0.13099684 0.34473665\n",
      "  0.58201418 0.84473445 0.45988027 0.79860359]]\n"
     ]
    }
   ],
   "source": [
    "print(a)\n",
    "print(a.T)"
   ]
  },
  {
   "cell_type": "code",
   "execution_count": null,
   "id": "automotive-mentor",
   "metadata": {},
   "outputs": [],
   "source": []
  }
 ],
 "metadata": {
  "kernelspec": {
   "display_name": "Python 3",
   "language": "python",
   "name": "python3"
  },
  "language_info": {
   "codemirror_mode": {
    "name": "ipython",
    "version": 3
   },
   "file_extension": ".py",
   "mimetype": "text/x-python",
   "name": "python",
   "nbconvert_exporter": "python",
   "pygments_lexer": "ipython3",
   "version": "3.9.2"
  }
 },
 "nbformat": 4,
 "nbformat_minor": 5
}
